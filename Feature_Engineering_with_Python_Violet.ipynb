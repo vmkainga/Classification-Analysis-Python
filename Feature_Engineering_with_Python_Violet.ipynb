{
  "nbformat": 4,
  "nbformat_minor": 0,
  "metadata": {
    "kernelspec": {
      "display_name": "Python 3",
      "language": "python",
      "name": "python3"
    },
    "language_info": {
      "codemirror_mode": {
        "name": "ipython",
        "version": 3
      },
      "file_extension": ".py",
      "mimetype": "text/x-python",
      "name": "python",
      "nbconvert_exporter": "python",
      "pygments_lexer": "ipython3",
      "version": "3.7.4"
    },
    "colab": {
      "name": "Feature Engineering with Python-Violet",
      "provenance": [],
      "collapsed_sections": [
        "T3ugplNYBiU5",
        "OeZUEETkBiVO",
        "RAMIxPNBBiVh",
        "es4RooNMBiV4",
        "Vk7x7utuBiV_",
        "YuFQMJceBiWF",
        "H4FCkA4HBiWN"
      ],
      "include_colab_link": true
    }
  },
  "cells": [
    {
      "cell_type": "markdown",
      "metadata": {
        "id": "view-in-github",
        "colab_type": "text"
      },
      "source": [
        "<a href=\"https://colab.research.google.com/github/vmkainga/Classification-Analysis-Python/blob/main/Feature_Engineering_with_Python_Violet.ipynb\" target=\"_parent\"><img src=\"https://colab.research.google.com/assets/colab-badge.svg\" alt=\"Open In Colab\"/></a>"
      ]
    },
    {
      "cell_type": "markdown",
      "metadata": {
        "id": "IcGUDoSkBiT4"
      },
      "source": [
        "# <font color='#2F4F4F'>1. Defining the Question</font>"
      ]
    },
    {
      "cell_type": "markdown",
      "metadata": {
        "id": "6sg3Sq-kBiT5"
      },
      "source": [
        "### a) Specifying the Data Analysis Question\n",
        "\n",
        "Sendy has hired you to help predict the estimated time of delivery of orders, from the\n",
        "point of driver pickup to the point of arrival at the final destination. Build a model that\n",
        "predicts an accurate delivery time, from picking up a package arriving at the final\n",
        "destination\n"
      ]
    },
    {
      "cell_type": "markdown",
      "metadata": {
        "id": "54AGppS1BiT6"
      },
      "source": [
        "### b) Defining the Metric for Success\n",
        "\n",
        "The metrics we will use to evaluate our model are RMSE and R2 scores."
      ]
    },
    {
      "cell_type": "markdown",
      "metadata": {
        "id": "In67Zlg2BiT7"
      },
      "source": [
        "### c) Understanding the Context \n",
        "\n",
        "Logistics in Sub-Saharan Africa increases the cost of manufactured goods by up to\n",
        "320%; while in Europe, it only accounts for up to 90% of the manufacturing cost. Sendy\n",
        "is a business-to-business platform established in 2014, to enable businesses of all types\n",
        "and sizes to transport goods more efficiently across East Africa. The company is\n",
        "headquartered in Kenya with a team of more than 100 staff, focused on building practical\n",
        "solutions for Africa’s dynamic transportation needs, from developing apps and web\n",
        "solutions to providing dedicated support for goods on the move.\n",
        "\n",
        "\n",
        "Sendy has hired you to help predict the estimated time of delivery of orders, from the\n",
        "point of driver pickup to the point of arrival at the final destination. Build a model that\n",
        "predicts an accurate delivery time, from picking up a package arriving at the final\n",
        "destination. An accurate arrival time prediction will help all business to improve their\n",
        "logistics and communicate the accurate time their time to their customers. You will be\n",
        "required to perform various feature engineering techniques while preparing your data for\n",
        "further analysis.\n"
      ]
    },
    {
      "cell_type": "markdown",
      "metadata": {
        "id": "VME7R5U9BiT8"
      },
      "source": [
        "### d) Recording the Experimental Design\n",
        "\n",
        "* Defining the Research Question\n",
        "* Data Importation\n",
        "* Data Exploration\n",
        "* Data Cleaning\n",
        "* Data Analysis\n",
        "* Data Preparation\n",
        "* Data Modeling\n",
        "* Model Evaluation\n",
        "* Challenging your Solution\n",
        "* Recommendations / Conclusion "
      ]
    },
    {
      "cell_type": "markdown",
      "metadata": {
        "id": "Ox4_7p-dBiT8"
      },
      "source": [
        "### e) Data Relevance\n",
        "\n",
        "The data provided was relevant to answering the research question."
      ]
    },
    {
      "cell_type": "markdown",
      "metadata": {
        "id": "C8P0JbeUBiT9"
      },
      "source": [
        "# <font color='#2F4F4F'>2. Data Cleaning & Preparation</font>"
      ]
    },
    {
      "cell_type": "code",
      "metadata": {
        "id": "7i0Z1TaoBiT-"
      },
      "source": [
        "# loading libraries\n",
        "import pandas as pd\n",
        "import numpy as np\n",
        "import matplotlib.pyplot as plt\n",
        "import seaborn as sns\n",
        "\n",
        "pd.set_option('display.max.columns', None)\n",
        "pd.set_option('display.max_colwidth', None)\n",
        "%matplotlib inline"
      ],
      "execution_count": 1,
      "outputs": []
    },
    {
      "cell_type": "code",
      "metadata": {
        "scrolled": true,
        "id": "hrt1AegqBiUD",
        "colab": {
          "base_uri": "https://localhost:8080/",
          "height": 319
        },
        "outputId": "91ac10f0-508f-484a-87be-195c7d9abd4d"
      },
      "source": [
        "# loading and previewing dataset\n",
        "df = pd.read_csv('https://bit.ly/3deaKEM')\n",
        "df.sample(3)"
      ],
      "execution_count": 2,
      "outputs": [
        {
          "output_type": "execute_result",
          "data": {
            "text/html": [
              "<div>\n",
              "<style scoped>\n",
              "    .dataframe tbody tr th:only-of-type {\n",
              "        vertical-align: middle;\n",
              "    }\n",
              "\n",
              "    .dataframe tbody tr th {\n",
              "        vertical-align: top;\n",
              "    }\n",
              "\n",
              "    .dataframe thead th {\n",
              "        text-align: right;\n",
              "    }\n",
              "</style>\n",
              "<table border=\"1\" class=\"dataframe\">\n",
              "  <thead>\n",
              "    <tr style=\"text-align: right;\">\n",
              "      <th></th>\n",
              "      <th>Order No</th>\n",
              "      <th>User Id</th>\n",
              "      <th>Vehicle Type</th>\n",
              "      <th>Platform Type</th>\n",
              "      <th>Personal or Business</th>\n",
              "      <th>Placement - Day of Month</th>\n",
              "      <th>Placement - Weekday (Mo = 1)</th>\n",
              "      <th>Placement - Time</th>\n",
              "      <th>Confirmation - Day of Month</th>\n",
              "      <th>Confirmation - Weekday (Mo = 1)</th>\n",
              "      <th>Confirmation - Time</th>\n",
              "      <th>Arrival at Pickup - Day of Month</th>\n",
              "      <th>Arrival at Pickup - Weekday (Mo = 1)</th>\n",
              "      <th>Arrival at Pickup - Time</th>\n",
              "      <th>Pickup - Day of Month</th>\n",
              "      <th>Pickup - Weekday (Mo = 1)</th>\n",
              "      <th>Pickup - Time</th>\n",
              "      <th>Arrival at Destination - Day of Month</th>\n",
              "      <th>Arrival at Destination - Weekday (Mo = 1)</th>\n",
              "      <th>Arrival at Destination - Time</th>\n",
              "      <th>Distance (KM)</th>\n",
              "      <th>Temperature</th>\n",
              "      <th>Precipitation in millimeters</th>\n",
              "      <th>Pickup Lat</th>\n",
              "      <th>Pickup Long</th>\n",
              "      <th>Destination Lat</th>\n",
              "      <th>Destination Long</th>\n",
              "      <th>Rider Id</th>\n",
              "      <th>Time from Pickup to Arrival</th>\n",
              "    </tr>\n",
              "  </thead>\n",
              "  <tbody>\n",
              "    <tr>\n",
              "      <th>19982</th>\n",
              "      <td>Order_No_14903</td>\n",
              "      <td>User_Id_1271</td>\n",
              "      <td>Bike</td>\n",
              "      <td>3</td>\n",
              "      <td>Business</td>\n",
              "      <td>13</td>\n",
              "      <td>3</td>\n",
              "      <td>10:09:17 AM</td>\n",
              "      <td>13</td>\n",
              "      <td>3</td>\n",
              "      <td>10:09:25 AM</td>\n",
              "      <td>13</td>\n",
              "      <td>3</td>\n",
              "      <td>10:09:31 AM</td>\n",
              "      <td>13</td>\n",
              "      <td>3</td>\n",
              "      <td>10:43:26 AM</td>\n",
              "      <td>13</td>\n",
              "      <td>3</td>\n",
              "      <td>10:56:29 AM</td>\n",
              "      <td>15</td>\n",
              "      <td>24.8</td>\n",
              "      <td>NaN</td>\n",
              "      <td>-1.324488</td>\n",
              "      <td>36.897792</td>\n",
              "      <td>-1.222419</td>\n",
              "      <td>36.886882</td>\n",
              "      <td>Rider_Id_874</td>\n",
              "      <td>783</td>\n",
              "    </tr>\n",
              "    <tr>\n",
              "      <th>2815</th>\n",
              "      <td>Order_No_13001</td>\n",
              "      <td>User_Id_1271</td>\n",
              "      <td>Bike</td>\n",
              "      <td>3</td>\n",
              "      <td>Business</td>\n",
              "      <td>14</td>\n",
              "      <td>4</td>\n",
              "      <td>5:28:29 PM</td>\n",
              "      <td>14</td>\n",
              "      <td>4</td>\n",
              "      <td>5:30:38 PM</td>\n",
              "      <td>14</td>\n",
              "      <td>4</td>\n",
              "      <td>5:52:57 PM</td>\n",
              "      <td>14</td>\n",
              "      <td>4</td>\n",
              "      <td>5:56:10 PM</td>\n",
              "      <td>14</td>\n",
              "      <td>4</td>\n",
              "      <td>6:16:06 PM</td>\n",
              "      <td>11</td>\n",
              "      <td>21.3</td>\n",
              "      <td>NaN</td>\n",
              "      <td>-1.324488</td>\n",
              "      <td>36.897792</td>\n",
              "      <td>-1.326825</td>\n",
              "      <td>36.864345</td>\n",
              "      <td>Rider_Id_549</td>\n",
              "      <td>1196</td>\n",
              "    </tr>\n",
              "    <tr>\n",
              "      <th>12051</th>\n",
              "      <td>Order_No_718</td>\n",
              "      <td>User_Id_1891</td>\n",
              "      <td>Bike</td>\n",
              "      <td>3</td>\n",
              "      <td>Business</td>\n",
              "      <td>29</td>\n",
              "      <td>2</td>\n",
              "      <td>10:43:50 AM</td>\n",
              "      <td>29</td>\n",
              "      <td>2</td>\n",
              "      <td>10:44:45 AM</td>\n",
              "      <td>29</td>\n",
              "      <td>2</td>\n",
              "      <td>10:50:09 AM</td>\n",
              "      <td>29</td>\n",
              "      <td>2</td>\n",
              "      <td>10:52:51 AM</td>\n",
              "      <td>29</td>\n",
              "      <td>2</td>\n",
              "      <td>11:12:13 AM</td>\n",
              "      <td>6</td>\n",
              "      <td>23.4</td>\n",
              "      <td>NaN</td>\n",
              "      <td>-1.260698</td>\n",
              "      <td>36.808863</td>\n",
              "      <td>-1.250646</td>\n",
              "      <td>36.846258</td>\n",
              "      <td>Rider_Id_72</td>\n",
              "      <td>1162</td>\n",
              "    </tr>\n",
              "  </tbody>\n",
              "</table>\n",
              "</div>"
            ],
            "text/plain": [
              "             Order No       User Id Vehicle Type  Platform Type  \\\n",
              "19982  Order_No_14903  User_Id_1271         Bike              3   \n",
              "2815   Order_No_13001  User_Id_1271         Bike              3   \n",
              "12051    Order_No_718  User_Id_1891         Bike              3   \n",
              "\n",
              "      Personal or Business  Placement - Day of Month  \\\n",
              "19982             Business                        13   \n",
              "2815              Business                        14   \n",
              "12051             Business                        29   \n",
              "\n",
              "       Placement - Weekday (Mo = 1) Placement - Time  \\\n",
              "19982                             3      10:09:17 AM   \n",
              "2815                              4       5:28:29 PM   \n",
              "12051                             2      10:43:50 AM   \n",
              "\n",
              "       Confirmation - Day of Month  Confirmation - Weekday (Mo = 1)  \\\n",
              "19982                           13                                3   \n",
              "2815                            14                                4   \n",
              "12051                           29                                2   \n",
              "\n",
              "      Confirmation - Time  Arrival at Pickup - Day of Month  \\\n",
              "19982         10:09:25 AM                                13   \n",
              "2815           5:30:38 PM                                14   \n",
              "12051         10:44:45 AM                                29   \n",
              "\n",
              "       Arrival at Pickup - Weekday (Mo = 1) Arrival at Pickup - Time  \\\n",
              "19982                                     3              10:09:31 AM   \n",
              "2815                                      4               5:52:57 PM   \n",
              "12051                                     2              10:50:09 AM   \n",
              "\n",
              "       Pickup - Day of Month  Pickup - Weekday (Mo = 1) Pickup - Time  \\\n",
              "19982                     13                          3   10:43:26 AM   \n",
              "2815                      14                          4    5:56:10 PM   \n",
              "12051                     29                          2   10:52:51 AM   \n",
              "\n",
              "       Arrival at Destination - Day of Month  \\\n",
              "19982                                     13   \n",
              "2815                                      14   \n",
              "12051                                     29   \n",
              "\n",
              "       Arrival at Destination - Weekday (Mo = 1)  \\\n",
              "19982                                          3   \n",
              "2815                                           4   \n",
              "12051                                          2   \n",
              "\n",
              "      Arrival at Destination - Time  Distance (KM)  Temperature  \\\n",
              "19982                   10:56:29 AM             15         24.8   \n",
              "2815                     6:16:06 PM             11         21.3   \n",
              "12051                   11:12:13 AM              6         23.4   \n",
              "\n",
              "       Precipitation in millimeters  Pickup Lat  Pickup Long  Destination Lat  \\\n",
              "19982                           NaN   -1.324488    36.897792        -1.222419   \n",
              "2815                            NaN   -1.324488    36.897792        -1.326825   \n",
              "12051                           NaN   -1.260698    36.808863        -1.250646   \n",
              "\n",
              "       Destination Long      Rider Id  Time from Pickup to Arrival  \n",
              "19982         36.886882  Rider_Id_874                          783  \n",
              "2815          36.864345  Rider_Id_549                         1196  \n",
              "12051         36.846258   Rider_Id_72                         1162  "
            ]
          },
          "metadata": {},
          "execution_count": 2
        }
      ]
    },
    {
      "cell_type": "code",
      "metadata": {
        "id": "8nHmaa4tBiUL",
        "colab": {
          "base_uri": "https://localhost:8080/",
          "height": 1000
        },
        "outputId": "12197455-632d-44e6-81f8-0bc1abe1dc2d"
      },
      "source": [
        "# loading glossary\n",
        "glossary = pd.read_csv('https://bit.ly/30O3xsr', header = None)\n",
        "glossary"
      ],
      "execution_count": 5,
      "outputs": [
        {
          "output_type": "execute_result",
          "data": {
            "text/html": [
              "<div>\n",
              "<style scoped>\n",
              "    .dataframe tbody tr th:only-of-type {\n",
              "        vertical-align: middle;\n",
              "    }\n",
              "\n",
              "    .dataframe tbody tr th {\n",
              "        vertical-align: top;\n",
              "    }\n",
              "\n",
              "    .dataframe thead th {\n",
              "        text-align: right;\n",
              "    }\n",
              "</style>\n",
              "<table border=\"1\" class=\"dataframe\">\n",
              "  <thead>\n",
              "    <tr style=\"text-align: right;\">\n",
              "      <th></th>\n",
              "      <th>0</th>\n",
              "      <th>1</th>\n",
              "    </tr>\n",
              "  </thead>\n",
              "  <tbody>\n",
              "    <tr>\n",
              "      <th>0</th>\n",
              "      <td>Order No</td>\n",
              "      <td>Unique number identifying the order</td>\n",
              "    </tr>\n",
              "    <tr>\n",
              "      <th>1</th>\n",
              "      <td>User Id</td>\n",
              "      <td>Unique number identifying the customer on a platform</td>\n",
              "    </tr>\n",
              "    <tr>\n",
              "      <th>2</th>\n",
              "      <td>Vehicle Type</td>\n",
              "      <td>For this competition limited to bikes, however in practice Sendy service extends to trucks and vans</td>\n",
              "    </tr>\n",
              "    <tr>\n",
              "      <th>3</th>\n",
              "      <td>Platform Type</td>\n",
              "      <td>Platform used to place the order, there are 4 types</td>\n",
              "    </tr>\n",
              "    <tr>\n",
              "      <th>4</th>\n",
              "      <td>Personal or Business</td>\n",
              "      <td>Customer type</td>\n",
              "    </tr>\n",
              "    <tr>\n",
              "      <th>5</th>\n",
              "      <td>Placement - Day of Month</td>\n",
              "      <td>Placement - Day of Month i.e 1-31</td>\n",
              "    </tr>\n",
              "    <tr>\n",
              "      <th>6</th>\n",
              "      <td>Placement - Weekday (Mo = 1)</td>\n",
              "      <td>Placement - Weekday (Monday = 1)</td>\n",
              "    </tr>\n",
              "    <tr>\n",
              "      <th>7</th>\n",
              "      <td>Placement - Time</td>\n",
              "      <td>Placement - Time - Time of day the order was placed</td>\n",
              "    </tr>\n",
              "    <tr>\n",
              "      <th>8</th>\n",
              "      <td>Confirmation - Day of Month</td>\n",
              "      <td>Confirmation - Day of Month i.e 1-31</td>\n",
              "    </tr>\n",
              "    <tr>\n",
              "      <th>9</th>\n",
              "      <td>Confirmation - Weekday (Mo = 1)</td>\n",
              "      <td>Confirmation - Weekday (Monday = 1)</td>\n",
              "    </tr>\n",
              "    <tr>\n",
              "      <th>10</th>\n",
              "      <td>Confirmation - Time</td>\n",
              "      <td>Confirmation - Time - Time of day the order was confirmed by a rider</td>\n",
              "    </tr>\n",
              "    <tr>\n",
              "      <th>11</th>\n",
              "      <td>Arrival at Pickup - Day of Month</td>\n",
              "      <td>Arrival at Pickup - Day of Month i.e 1-31</td>\n",
              "    </tr>\n",
              "    <tr>\n",
              "      <th>12</th>\n",
              "      <td>Arrival at Pickup - Weekday (Mo = 1)</td>\n",
              "      <td>Arrival at Pickup - Weekday (Monday = 1)</td>\n",
              "    </tr>\n",
              "    <tr>\n",
              "      <th>13</th>\n",
              "      <td>Arrival at Pickup - Time</td>\n",
              "      <td>Time of day the the rider arrived at the location to pick up the order - as marked by the rider through the Sendy application</td>\n",
              "    </tr>\n",
              "    <tr>\n",
              "      <th>14</th>\n",
              "      <td>Pickup - Day of Month</td>\n",
              "      <td>Pickup - Day of Month i.e 1-31</td>\n",
              "    </tr>\n",
              "    <tr>\n",
              "      <th>15</th>\n",
              "      <td>Pickup - Weekday (Mo = 1)</td>\n",
              "      <td>Pickup - Weekday (Monday = 1)</td>\n",
              "    </tr>\n",
              "    <tr>\n",
              "      <th>16</th>\n",
              "      <td>Pickup - Time</td>\n",
              "      <td>Pickup - Time - Time of day the the rider picked up the order - as marked by the rider through the Sendy application</td>\n",
              "    </tr>\n",
              "    <tr>\n",
              "      <th>17</th>\n",
              "      <td>Arrival at Destination - Day of Month</td>\n",
              "      <td>Arrival at Delivery - Day of Month i.e 1-31</td>\n",
              "    </tr>\n",
              "    <tr>\n",
              "      <th>18</th>\n",
              "      <td>Arrival at Destination - Weekday (Mo = 1)</td>\n",
              "      <td>Arrival at Delivery - Weekday (Monday = 1)</td>\n",
              "    </tr>\n",
              "    <tr>\n",
              "      <th>19</th>\n",
              "      <td>Arrival at Destination - Time</td>\n",
              "      <td>Arrival at Delivery Time - Time of day the rider arrived at the destination to deliver the order - as marked by the rider through the Sendy application</td>\n",
              "    </tr>\n",
              "    <tr>\n",
              "      <th>20</th>\n",
              "      <td>Distance (KM)</td>\n",
              "      <td>The distance from Pickup to Destination</td>\n",
              "    </tr>\n",
              "    <tr>\n",
              "      <th>21</th>\n",
              "      <td>Temperature</td>\n",
              "      <td>Temperature at the time of order placement in Degrees Celsius (measured every three hours)</td>\n",
              "    </tr>\n",
              "    <tr>\n",
              "      <th>22</th>\n",
              "      <td>Precipitation in millimeters</td>\n",
              "      <td>Precipitation at the time of order placement (measured every three hours)</td>\n",
              "    </tr>\n",
              "    <tr>\n",
              "      <th>23</th>\n",
              "      <td>Pickup Lat</td>\n",
              "      <td>Latitude of pick up location</td>\n",
              "    </tr>\n",
              "    <tr>\n",
              "      <th>24</th>\n",
              "      <td>Pickup Long</td>\n",
              "      <td>Longitude of pick up location</td>\n",
              "    </tr>\n",
              "    <tr>\n",
              "      <th>25</th>\n",
              "      <td>Destination Lat</td>\n",
              "      <td>Latitude of delivery location</td>\n",
              "    </tr>\n",
              "    <tr>\n",
              "      <th>26</th>\n",
              "      <td>Destination Long</td>\n",
              "      <td>Longitude of delivery location</td>\n",
              "    </tr>\n",
              "    <tr>\n",
              "      <th>27</th>\n",
              "      <td>Rider Id</td>\n",
              "      <td>ID of the Rider who accepted the order</td>\n",
              "    </tr>\n",
              "    <tr>\n",
              "      <th>28</th>\n",
              "      <td>Time from Pickup to Arrival</td>\n",
              "      <td>Time in seconds between 'Pickup' and 'Arrival at Destination' - calculated from the columns for the purpose of facilitating the task</td>\n",
              "    </tr>\n",
              "    <tr>\n",
              "      <th>29</th>\n",
              "      <td>NaN</td>\n",
              "      <td>NaN</td>\n",
              "    </tr>\n",
              "    <tr>\n",
              "      <th>30</th>\n",
              "      <td>Rider Metrics</td>\n",
              "      <td>NaN</td>\n",
              "    </tr>\n",
              "    <tr>\n",
              "      <th>31</th>\n",
              "      <td>Rider Id</td>\n",
              "      <td>Unique number identifying the rider (same as in order details)</td>\n",
              "    </tr>\n",
              "    <tr>\n",
              "      <th>32</th>\n",
              "      <td>No_Of_Orders</td>\n",
              "      <td>Number of Orders the rider has delivered</td>\n",
              "    </tr>\n",
              "    <tr>\n",
              "      <th>33</th>\n",
              "      <td>Age</td>\n",
              "      <td>Number of days since the rider delivered the first order</td>\n",
              "    </tr>\n",
              "    <tr>\n",
              "      <th>34</th>\n",
              "      <td>Average_Rating</td>\n",
              "      <td>Average rating of the rider</td>\n",
              "    </tr>\n",
              "    <tr>\n",
              "      <th>35</th>\n",
              "      <td>No_of_Ratings</td>\n",
              "      <td>Number of ratings the rider has received. Rating an order is optional for the customer.</td>\n",
              "    </tr>\n",
              "  </tbody>\n",
              "</table>\n",
              "</div>"
            ],
            "text/plain": [
              "                                            0  \\\n",
              "0                                    Order No   \n",
              "1                                     User Id   \n",
              "2                                Vehicle Type   \n",
              "3                               Platform Type   \n",
              "4                        Personal or Business   \n",
              "5                    Placement - Day of Month   \n",
              "6                Placement - Weekday (Mo = 1)   \n",
              "7                            Placement - Time   \n",
              "8                 Confirmation - Day of Month   \n",
              "9             Confirmation - Weekday (Mo = 1)   \n",
              "10                        Confirmation - Time   \n",
              "11           Arrival at Pickup - Day of Month   \n",
              "12       Arrival at Pickup - Weekday (Mo = 1)   \n",
              "13                   Arrival at Pickup - Time   \n",
              "14                      Pickup - Day of Month   \n",
              "15                  Pickup - Weekday (Mo = 1)   \n",
              "16                              Pickup - Time   \n",
              "17      Arrival at Destination - Day of Month   \n",
              "18  Arrival at Destination - Weekday (Mo = 1)   \n",
              "19              Arrival at Destination - Time   \n",
              "20                              Distance (KM)   \n",
              "21                                Temperature   \n",
              "22               Precipitation in millimeters   \n",
              "23                                 Pickup Lat   \n",
              "24                                Pickup Long   \n",
              "25                            Destination Lat   \n",
              "26                           Destination Long   \n",
              "27                                   Rider Id   \n",
              "28                Time from Pickup to Arrival   \n",
              "29                                        NaN   \n",
              "30                              Rider Metrics   \n",
              "31                                   Rider Id   \n",
              "32                               No_Of_Orders   \n",
              "33                                        Age   \n",
              "34                             Average_Rating   \n",
              "35                              No_of_Ratings   \n",
              "\n",
              "                                                                                                                                                          1  \n",
              "0                                                                                                                       Unique number identifying the order  \n",
              "1                                                                                                      Unique number identifying the customer on a platform  \n",
              "2                                                       For this competition limited to bikes, however in practice Sendy service extends to trucks and vans  \n",
              "3                                                                                                       Platform used to place the order, there are 4 types  \n",
              "4                                                                                                                                             Customer type  \n",
              "5                                                                                                                         Placement - Day of Month i.e 1-31  \n",
              "6                                                                                                                          Placement - Weekday (Monday = 1)  \n",
              "7                                                                                                       Placement - Time - Time of day the order was placed  \n",
              "8                                                                                                                      Confirmation - Day of Month i.e 1-31  \n",
              "9                                                                                                                       Confirmation - Weekday (Monday = 1)  \n",
              "10                                                                                     Confirmation - Time - Time of day the order was confirmed by a rider  \n",
              "11                                                                                                                Arrival at Pickup - Day of Month i.e 1-31  \n",
              "12                                                                                                                 Arrival at Pickup - Weekday (Monday = 1)  \n",
              "13                            Time of day the the rider arrived at the location to pick up the order - as marked by the rider through the Sendy application  \n",
              "14                                                                                                                           Pickup - Day of Month i.e 1-31  \n",
              "15                                                                                                                            Pickup - Weekday (Monday = 1)  \n",
              "16                                     Pickup - Time - Time of day the the rider picked up the order - as marked by the rider through the Sendy application  \n",
              "17                                                                                                              Arrival at Delivery - Day of Month i.e 1-31  \n",
              "18                                                                                                               Arrival at Delivery - Weekday (Monday = 1)  \n",
              "19  Arrival at Delivery Time - Time of day the rider arrived at the destination to deliver the order - as marked by the rider through the Sendy application  \n",
              "20                                                                                                                  The distance from Pickup to Destination  \n",
              "21                                                               Temperature at the time of order placement in Degrees Celsius (measured every three hours)  \n",
              "22                                                                                Precipitation at the time of order placement (measured every three hours)  \n",
              "23                                                                                                                             Latitude of pick up location  \n",
              "24                                                                                                                            Longitude of pick up location  \n",
              "25                                                                                                                            Latitude of delivery location  \n",
              "26                                                                                                                           Longitude of delivery location  \n",
              "27                                                                                                                   ID of the Rider who accepted the order  \n",
              "28                     Time in seconds between 'Pickup' and 'Arrival at Destination' - calculated from the columns for the purpose of facilitating the task  \n",
              "29                                                                                                                                                      NaN  \n",
              "30                                                                                                                                                      NaN  \n",
              "31                                                                                           Unique number identifying the rider (same as in order details)  \n",
              "32                                                                                                                 Number of Orders the rider has delivered  \n",
              "33                                                                                                 Number of days since the rider delivered the first order  \n",
              "34                                                                                                                              Average rating of the rider  \n",
              "35                                                                  Number of ratings the rider has received. Rating an order is optional for the customer.  "
            ]
          },
          "metadata": {},
          "execution_count": 5
        }
      ]
    },
    {
      "cell_type": "code",
      "metadata": {
        "id": "xwI6XbOtBiUO"
      },
      "source": [
        "# dropping the 'name' variable\n",
        "df.drop(columns = ['name'], inplace = True)"
      ],
      "execution_count": null,
      "outputs": []
    },
    {
      "cell_type": "code",
      "metadata": {
        "id": "6YLlPK34BiUS"
      },
      "source": [
        "# checking dataset shape\n",
        "df.shape"
      ],
      "execution_count": null,
      "outputs": []
    },
    {
      "cell_type": "code",
      "metadata": {
        "id": "wSszt42KBiUX"
      },
      "source": [
        "# checking data types\n",
        "df.dtypes"
      ],
      "execution_count": null,
      "outputs": []
    },
    {
      "cell_type": "code",
      "metadata": {
        "id": "zmH7F51yBiUa"
      },
      "source": [
        ""
      ],
      "execution_count": null,
      "outputs": []
    },
    {
      "cell_type": "code",
      "metadata": {
        "id": "sE9Pjh1gBiUd"
      },
      "source": [
        "# dropping duplicates, if any\n",
        "df.drop_duplicates(inplace = True)\n",
        "df.shape"
      ],
      "execution_count": null,
      "outputs": []
    },
    {
      "cell_type": "code",
      "metadata": {
        "id": "TSntRcwDBiUg"
      },
      "source": [
        "# checking for missing data\n",
        "df.isna().sum()"
      ],
      "execution_count": null,
      "outputs": []
    },
    {
      "cell_type": "code",
      "metadata": {
        "id": "7-sCZwtIBiUj"
      },
      "source": [
        "# dropping the 'neighbourhood_group' variable, and the records with missing values for 'last_review'\n",
        "# and 'reviews_per_month'\n",
        "df.drop(columns = ['neighbourhood_group'], inplace = True)\n",
        "df.dropna(inplace = True)\n",
        "\n",
        "# confirming we have no null values\n",
        "df.isnull().sum()"
      ],
      "execution_count": null,
      "outputs": []
    },
    {
      "cell_type": "code",
      "metadata": {
        "id": "w0ZinlPpBiUo"
      },
      "source": [
        "df.shape"
      ],
      "execution_count": null,
      "outputs": []
    },
    {
      "cell_type": "code",
      "metadata": {
        "id": "Biqt5CGbBiUs"
      },
      "source": [
        "# get the unique value of each variable to ensure there are no anomalies\n",
        "cols = df.columns.to_list()\n",
        "\n",
        "for col in cols:\n",
        "    print(\"Variable:\", col)\n",
        "    print(\"Number of unique variables:\", df[col].nunique())\n",
        "    print(df[col].unique())\n",
        "    print()"
      ],
      "execution_count": null,
      "outputs": []
    },
    {
      "cell_type": "code",
      "metadata": {
        "id": "aNmLiGPFBiUv"
      },
      "source": [
        "# visualizing the distribution of outliers\n",
        "plt.figure(figsize = (15, 8))\n",
        "df.boxplot()\n",
        "plt.show()"
      ],
      "execution_count": null,
      "outputs": []
    },
    {
      "cell_type": "code",
      "metadata": {
        "id": "EF2ckNcZBiUx"
      },
      "source": [
        "# getting the records with outliers\n",
        "q1 = df.quantile(0.25)\n",
        "q3 = df.quantile(0.75)\n",
        "iqr = q3 - q1\n",
        "\n",
        "outliers_df = df[((df < (q1 - 1.5 * iqr)) | (df > (q3 + 1.5 * iqr))).any(axis = 1)]\n",
        "print(outliers_df.shape)\n",
        "outliers_df.sample(3)"
      ],
      "execution_count": null,
      "outputs": []
    },
    {
      "cell_type": "code",
      "metadata": {
        "id": "rYRRRrLyBiU0"
      },
      "source": [
        "# calculating percentage of outliers\n",
        "round((outliers_df.shape[0] / df.shape[0]) * 100, 2)"
      ],
      "execution_count": null,
      "outputs": []
    },
    {
      "cell_type": "markdown",
      "metadata": {
        "id": "cFYNsqcNBiU4"
      },
      "source": [
        "It would be tricky to drop the records with outliers since that will reduce our dataset by half so we will leave them there. However, we will drop the host_id variable later on, right before modeling."
      ]
    },
    {
      "cell_type": "markdown",
      "metadata": {
        "id": "UFT-K1wQBiU5"
      },
      "source": [
        "# <font color='#2F4F4F'>3. Data Analysis</font>"
      ]
    },
    {
      "cell_type": "markdown",
      "metadata": {
        "id": "T3ugplNYBiU5"
      },
      "source": [
        "## 3.1 Univariate Analysis "
      ]
    },
    {
      "cell_type": "code",
      "metadata": {
        "id": "hMJPsYX_BiU6"
      },
      "source": [
        "# getting the top 10 most common hosts\n",
        "plt.figure(figsize = (10, 6))\n",
        "df.host_name.value_counts()[:10].plot(kind = 'bar', rot = 0)\n",
        "plt.title(\"Top 10 Hosts\")\n",
        "plt.show()"
      ],
      "execution_count": null,
      "outputs": []
    },
    {
      "cell_type": "code",
      "metadata": {
        "id": "T_NepL5vBiU9"
      },
      "source": [
        "# getting the top 10 most common neighbourhoods\n",
        "plt.figure(figsize = (10, 6))\n",
        "df.neighbourhood.value_counts()[:10].plot(kind = 'bar', rot = 25)\n",
        "plt.xticks(ha = \"right\")\n",
        "plt.title(\"Top 10 Neighbourhoods\")\n",
        "plt.show()"
      ],
      "execution_count": null,
      "outputs": []
    },
    {
      "cell_type": "code",
      "metadata": {
        "id": "336tKm-eBiVB"
      },
      "source": [
        "df.room_type.value_counts()"
      ],
      "execution_count": null,
      "outputs": []
    },
    {
      "cell_type": "code",
      "metadata": {
        "id": "KLmzCtedBiVE"
      },
      "source": [
        "# getting the most common room types\n",
        "plt.figure(figsize = (6, 6))\n",
        "labels = ['Entire home/apt', 'Private room', 'Hotel room', 'Shared room']\n",
        "df.room_type.value_counts().plot(kind = 'pie', autopct = '%0.1f%%', labels = labels)\n",
        "plt.show()"
      ],
      "execution_count": null,
      "outputs": []
    },
    {
      "cell_type": "code",
      "metadata": {
        "id": "ffYLNxWmBiVI"
      },
      "source": [
        "# distribution of price\n",
        "plt.figure(figsize = (10,4))\n",
        "sns.distplot(df['price'])\n",
        "plt.show()"
      ],
      "execution_count": null,
      "outputs": []
    },
    {
      "cell_type": "code",
      "metadata": {
        "id": "Y_YnBZ0RBiVL"
      },
      "source": [
        "# getting the top 10 most common minimum number of nights to spend\n",
        "plt.figure(figsize = (10, 5))\n",
        "df.minimum_nights.value_counts()[:10].plot(kind = 'bar', rot = 0)\n",
        "plt.show()"
      ],
      "execution_count": null,
      "outputs": []
    },
    {
      "cell_type": "markdown",
      "metadata": {
        "id": "OeZUEETkBiVO"
      },
      "source": [
        "## 3.2 Bivariate Analysis"
      ]
    },
    {
      "cell_type": "code",
      "metadata": {
        "id": "ONWbn9UqBiVP"
      },
      "source": [
        "# price by room type\n",
        "df.hist('price', by = 'room_type', rot = 0, figsize = (10, 6))\n",
        "plt.show()"
      ],
      "execution_count": null,
      "outputs": []
    },
    {
      "cell_type": "code",
      "metadata": {
        "id": "1_r0mB2YBiVT"
      },
      "source": [
        "# average price by neighbourhood\n",
        "df.groupby('neighbourhood')['price'].mean().sort_values(ascending = False)"
      ],
      "execution_count": null,
      "outputs": []
    },
    {
      "cell_type": "code",
      "metadata": {
        "id": "icZWqXs3BiVd"
      },
      "source": [
        "# average price by neighbourhood\n",
        "df.groupby('minimum_nights')['price'].mean().sort_values(ascending = False)"
      ],
      "execution_count": null,
      "outputs": []
    },
    {
      "cell_type": "markdown",
      "metadata": {
        "id": "RAMIxPNBBiVh"
      },
      "source": [
        "## 3.3 Feature Engineering"
      ]
    },
    {
      "cell_type": "code",
      "metadata": {
        "id": "amDK304_BiVi"
      },
      "source": [
        "# getting the average price per room type\n",
        "YOUR CODE HERE\n",
        "\n",
        "# adding to our dataset\n",
        "YOUR CODE HERE\n",
        "\n",
        "# previewing our modified dataset\n",
        "YOUR CODE HERE"
      ],
      "execution_count": null,
      "outputs": []
    },
    {
      "cell_type": "code",
      "metadata": {
        "id": "6DxMshHtBiVm"
      },
      "source": [
        "# getting the average price per neighbourhood\n",
        "YOUR CODE HERE\n",
        "\n",
        "# adding to our dataset\n",
        "YOUR CODE HERE\n",
        "\n",
        "# previewing our modified dataset\n",
        "YOUR CODE HERE"
      ],
      "execution_count": null,
      "outputs": []
    },
    {
      "cell_type": "code",
      "metadata": {
        "id": "5cE9g8rHBiVp"
      },
      "source": [
        "# encoding 'room_type'\n",
        "YOUR CODE HERE"
      ],
      "execution_count": null,
      "outputs": []
    },
    {
      "cell_type": "code",
      "metadata": {
        "id": "ZQkBcgN9BiVr"
      },
      "source": [
        "# dropping unneeded columns in preparation for modeling\n",
        "YOUR CODE HERE"
      ],
      "execution_count": null,
      "outputs": []
    },
    {
      "cell_type": "markdown",
      "metadata": {
        "id": "l1ciT2WtBiVv"
      },
      "source": [
        "# <font color='#2F4F4F'>4. Data Modeling</font>"
      ]
    },
    {
      "cell_type": "code",
      "metadata": {
        "id": "p5etKU12BiVv"
      },
      "source": [
        "# split into features (X) and label (Y)\n",
        "YOUR CODE HERE"
      ],
      "execution_count": null,
      "outputs": []
    },
    {
      "cell_type": "code",
      "metadata": {
        "id": "6HBMvY_IBiVy"
      },
      "source": [
        "# split into 70-30 train and test sets\n",
        "YOUR CODE HERE"
      ],
      "execution_count": null,
      "outputs": []
    },
    {
      "cell_type": "code",
      "metadata": {
        "id": "FYjh75alBiV0"
      },
      "source": [
        "# scaling our features \n",
        "YOUR CODE HERE"
      ],
      "execution_count": null,
      "outputs": []
    },
    {
      "cell_type": "markdown",
      "metadata": {
        "id": "hxoyP6JvBiV3"
      },
      "source": [
        "For purposes of simplicity, we will work with the following regressors:\n",
        "* Decision Tree Regressor\n",
        "* Random Forest Regressor"
      ]
    },
    {
      "cell_type": "markdown",
      "metadata": {
        "id": "es4RooNMBiV4"
      },
      "source": [
        "## 4.1 Normal Modeling"
      ]
    },
    {
      "cell_type": "code",
      "metadata": {
        "id": "9oqDHFgQBiV4"
      },
      "source": [
        "# loading our regressors\n",
        "YOUR CODE HERE\n",
        "\n",
        "# instantiating our regressors\n",
        "YOUR CODE HERE\n",
        "\n",
        "# fitting to our training data\n",
        "YOUR CODE HERE\n",
        "\n",
        "# making predictions\n",
        "YOUR CODE HERE\n",
        "\n",
        "# evaluating the RMSE and R2 scores\n",
        "YOUR CODE HERE"
      ],
      "execution_count": null,
      "outputs": []
    },
    {
      "cell_type": "code",
      "metadata": {
        "id": "ePws3a5SBiV8"
      },
      "source": [
        "# 10% of target variable's mean\n",
        "YOUR CODE HERE"
      ],
      "execution_count": null,
      "outputs": []
    },
    {
      "cell_type": "markdown",
      "metadata": {
        "id": "dvgQU_reBiV_"
      },
      "source": [
        "Record your observations."
      ]
    },
    {
      "cell_type": "markdown",
      "metadata": {
        "id": "Vk7x7utuBiV_"
      },
      "source": [
        "## 4.2 Modeling with Grid Search"
      ]
    },
    {
      "cell_type": "code",
      "metadata": {
        "id": "QPm9K21BBiWA"
      },
      "source": [
        "# setting our grid parameters\n",
        "YOUR CODE HERE\n",
        "\n",
        "# setting up the Grid Search with our regressors with cv = 5 and n_jobs = -1\n",
        "YOUR CODE HERE\n",
        "\n",
        "# fitting to training data\n",
        "YOUR CODE HERE\n",
        "\n",
        "# getting the best parameters\n",
        "YOUR CODE HERE"
      ],
      "execution_count": null,
      "outputs": []
    },
    {
      "cell_type": "code",
      "metadata": {
        "id": "khsTTDq0BiWD"
      },
      "source": [
        "# implementing this recommendation\n",
        "\n",
        "# instantiating our regressors with the recommended parameters\n",
        "YOUR CODE HERE\n",
        "\n",
        "# fitting to our training data\n",
        "YOUR CODE HERE\n",
        "\n",
        "# making predictions\n",
        "YOUR CODE HERE\n",
        "\n",
        "# evaluating the RMSE and R2 scores\n",
        "YOUR CODE HERE"
      ],
      "execution_count": null,
      "outputs": []
    },
    {
      "cell_type": "markdown",
      "metadata": {
        "id": "YuFQMJceBiWF"
      },
      "source": [
        "## 4.3 Modeling with Random Search"
      ]
    },
    {
      "cell_type": "code",
      "metadata": {
        "id": "Tht4XME9BiWF"
      },
      "source": [
        "# setting up our parameters and the respective distributions to sample from\n",
        "YOUR CODE HERE\n",
        "\n",
        "# setting up Randomized Search for each regressor with cv = 5\n",
        "YOUR CODE HERE\n",
        "\n",
        "# fitting to training data\n",
        "YOUR CODE HERE\n",
        "\n",
        "# getting the best parameters\n",
        "YOUR CODE HERE"
      ],
      "execution_count": null,
      "outputs": []
    },
    {
      "cell_type": "code",
      "metadata": {
        "id": "oc55zVBiBiWI"
      },
      "source": [
        "# implementing this recommendation\n",
        "\n",
        "# instantiating our regressors using the recommended parameters\n",
        "YOUR CODE HERE\n",
        "\n",
        "# fitting to our training data\n",
        "YOUR CODE HERE\n",
        "\n",
        "# making predictions\n",
        "YOUR CODE HERE\n",
        "\n",
        "# evaluating the RMSE and R2 scores\n",
        "YOUR CODE HERE"
      ],
      "execution_count": null,
      "outputs": []
    },
    {
      "cell_type": "markdown",
      "metadata": {
        "id": "H4FCkA4HBiWN"
      },
      "source": [
        "## 4.4 Modeling with Bayesian Optimization"
      ]
    },
    {
      "cell_type": "code",
      "metadata": {
        "id": "17VcumC_BiWO"
      },
      "source": [
        "# importing the hyperopt library and cross_val_score\n",
        "YOUR CODE HERE\n",
        "\n",
        "# setting up a space dictionary\n",
        "YOUR CODE HERE\n",
        "\n",
        "# setting up our objective functions\n",
        "YOUR CODE HERE\n",
        "\n",
        "# running our optimizers and setting max_evals to 100\n",
        "YOUR CODE HERE\n",
        "\n",
        "#printing our outcomes\n",
        "YOUR CODE HERE"
      ],
      "execution_count": null,
      "outputs": []
    },
    {
      "cell_type": "code",
      "metadata": {
        "id": "PMtZPGJLBiWU"
      },
      "source": [
        "# instantiating our regressors using the recommended parameters\n",
        "YOUR CODE HERE\n",
        "\n",
        "# fitting to our training data\n",
        "YOUR CODE HERE\n",
        "\n",
        "# making predictions\n",
        "YOUR CODE HERE\n",
        "\n",
        "# evaluating the RMSE and R2 scores\n",
        "YOUR CODE HERE"
      ],
      "execution_count": null,
      "outputs": []
    },
    {
      "cell_type": "markdown",
      "metadata": {
        "id": "YFoZdpZaBiWX"
      },
      "source": [
        "# <font color='#2F4F4F'>5. Summary of Findings</font>\n",
        "\n",
        "Summarize your findings."
      ]
    },
    {
      "cell_type": "markdown",
      "metadata": {
        "id": "8l8X81g0BiWY"
      },
      "source": [
        "# <font color='#2F4F4F'>6. Recommendations</font>\n",
        "\n",
        "Provide your recommendations."
      ]
    },
    {
      "cell_type": "markdown",
      "metadata": {
        "id": "YQD7_7o8BiWZ"
      },
      "source": [
        "# <font color='#2F4F4F'>7. Challenging your Solution</font>\n",
        "\n",
        "### a) Did we have the right question?\n",
        "\n",
        "\n",
        "### b) Did we have the right data?\n",
        "\n",
        "\n",
        "### c) What can be done to improve the solution?\n"
      ]
    }
  ]
}